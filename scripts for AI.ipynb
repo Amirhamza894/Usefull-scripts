{
  "nbformat": 4,
  "nbformat_minor": 0,
  "metadata": {
    "kernelspec": {
      "display_name": "Python 3",
      "language": "python",
      "name": "python3"
    },
    "language_info": {
      "codemirror_mode": {
        "name": "ipython",
        "version": 3
      },
      "file_extension": ".py",
      "mimetype": "text/x-python",
      "name": "python",
      "nbconvert_exporter": "python",
      "pygments_lexer": "ipython3",
      "version": "3.7.9"
    },
    "colab": {
      "name": "data Augmentation.ipynb",
      "provenance": []
    }
  },
  "cells": [
    {
      "cell_type": "markdown",
      "metadata": {
        "id": "XV50yjgIGbqH"
      },
      "source": [
        "### Data Augmentation"
      ]
    },
    {
      "cell_type": "code",
      "metadata": {
        "id": "Zyq9trLFGbqN"
      },
      "source": [
        "from keras.preprocessing.image import ImageDataGenerator, array_to_img, img_to_array, load_img\n",
        "import PIL\n",
        "import os\n",
        "\n",
        "datagen = ImageDataGenerator(\n",
        "        rotation_range=40,\n",
        "        width_shift_range=0.2,\n",
        "        height_shift_range=0.2,\n",
        "        shear_range=0.2,\n",
        "        zoom_range=0.2,\n",
        "        horizontal_flip=True,\n",
        "        fill_mode='nearest')\n",
        "\n",
        "\n",
        "for i in range(127):\n",
        "    chosen_image = os.listdir('C:\\\\Users\\\\Sorcim\\\\Documents\\\\dataset\\\\cards_resized\\\\')[i]\n",
        "    image_path ='C:\\\\Users\\\\Sorcim\\\\Documents\\\\dataset\\\\cards_resized\\\\' + chosen_image\n",
        "    \n",
        "    img = load_img(image_path) # this is a PIL image\n",
        "    x = img_to_array(img)  # this is a Numpy array with shape (3, 150, 150)\n",
        "    x = x.reshape((1,) + x.shape)\n",
        "    \n",
        "    i = 0\n",
        "    \n",
        "    \n",
        "    for batch in datagen.flow(x, batch_size=1,\n",
        "                          save_to_dir='cards_resized', save_prefix='change', save_format='jpeg'):\n",
        "        i += 1\n",
        "        if i > 10:\n",
        "             break"
      ],
      "execution_count": null,
      "outputs": []
    },
    {
      "cell_type": "markdown",
      "metadata": {
        "id": "rRrpfRYwGbqQ"
      },
      "source": [
        "### Doanload images from Bing"
      ]
    },
    {
      "cell_type": "code",
      "metadata": {
        "id": "vtIooIcYGbqQ"
      },
      "source": [
        "from bing_image_downloader import downloader\n",
        "\n",
        "\n",
        "downloader.download('Financial Documents', limit=100, output_dir = 'images/')"
      ],
      "execution_count": null,
      "outputs": []
    },
    {
      "cell_type": "markdown",
      "metadata": {
        "id": "J6odvuSPGbqR"
      },
      "source": [
        "### Renaming Directory Images"
      ]
    },
    {
      "cell_type": "code",
      "metadata": {
        "id": "E5EJ9fxIGbqS"
      },
      "source": [
        "import os\n",
        "\n",
        "path = os.chdir('C:\\\\Users\\\\Sorcim\\\\Documents\\\\images\\\\New folder\\\\')\n",
        "i = 700\n",
        "\n",
        "for file in os.listdir(path):\n",
        "    \n",
        "    new_file = 'id_card{}.jpg'.format(i)\n",
        "    os.rename(file, new_file)\n",
        "    \n",
        "    i = i+1"
      ],
      "execution_count": null,
      "outputs": []
    },
    {
      "cell_type": "markdown",
      "metadata": {
        "id": "IAFit9v6GbqT"
      },
      "source": [
        "## Changing images extensions"
      ]
    },
    {
      "cell_type": "code",
      "metadata": {
        "id": "HktLuJ6KGbqU"
      },
      "source": [
        "import os,sys\n",
        "folder = 'C:\\\\Users\\\\Sorcim\\\\Desktop\\\\final_dataset'\n",
        "for filename in os.listdir(folder):\n",
        "       infilename = os.path.join(folder,filename)\n",
        "       if not os.path.isfile(infilename): continue\n",
        "       oldbase = os.path.splitext(filename)\n",
        "       newname = infilename.replace('.jpeg', '.jpg')\n",
        "       output = os.rename(infilename, newname)"
      ],
      "execution_count": null,
      "outputs": []
    },
    {
      "cell_type": "markdown",
      "metadata": {
        "id": "IRB2toXeGbqU"
      },
      "source": [
        "### Removing PNG Files"
      ]
    },
    {
      "cell_type": "code",
      "metadata": {
        "id": "4XzQV6krGbqV",
        "outputId": "4f10df01-f87d-4743-ffb1-3f60e7f1dbcd"
      },
      "source": [
        "import pathlib\n",
        "import glob\n",
        "import os\n",
        "import pysftp\n",
        "\n",
        "for file in glob.glob('C:\\\\Users\\\\Sorcim\\\\Desktop\\\\final_dataset\\\\*.jpeg'):\n",
        "    print(file)\n",
        "    base = os.path.splitext(file)\n",
        "    os.rename(file, base + '.bin')\n",
        "#     path = pathlib.Path(file)\n",
        "#     path.unlink()"
      ],
      "execution_count": null,
      "outputs": [
        {
          "output_type": "stream",
          "text": [
            "C:\\Users\\Sorcim\\Desktop\\final_dataset\\change_0_1007.jpeg\n"
          ],
          "name": "stdout"
        },
        {
          "output_type": "error",
          "ename": "TypeError",
          "evalue": "can only concatenate tuple (not \"str\") to tuple",
          "traceback": [
            "\u001b[1;31m---------------------------------------------------------------------------\u001b[0m",
            "\u001b[1;31mTypeError\u001b[0m                                 Traceback (most recent call last)",
            "\u001b[1;32m<ipython-input-12-83f87b5faa6d>\u001b[0m in \u001b[0;36m<module>\u001b[1;34m\u001b[0m\n\u001b[0;32m      7\u001b[0m     \u001b[0mprint\u001b[0m\u001b[1;33m(\u001b[0m\u001b[0mfile\u001b[0m\u001b[1;33m)\u001b[0m\u001b[1;33m\u001b[0m\u001b[1;33m\u001b[0m\u001b[0m\n\u001b[0;32m      8\u001b[0m     \u001b[0mbase\u001b[0m \u001b[1;33m=\u001b[0m \u001b[0mos\u001b[0m\u001b[1;33m.\u001b[0m\u001b[0mpath\u001b[0m\u001b[1;33m.\u001b[0m\u001b[0msplitext\u001b[0m\u001b[1;33m(\u001b[0m\u001b[0mfile\u001b[0m\u001b[1;33m)\u001b[0m\u001b[1;33m\u001b[0m\u001b[1;33m\u001b[0m\u001b[0m\n\u001b[1;32m----> 9\u001b[1;33m     \u001b[0mos\u001b[0m\u001b[1;33m.\u001b[0m\u001b[0mrename\u001b[0m\u001b[1;33m(\u001b[0m\u001b[0mfile\u001b[0m\u001b[1;33m,\u001b[0m \u001b[0mbase\u001b[0m \u001b[1;33m+\u001b[0m \u001b[1;34m'.bin'\u001b[0m\u001b[1;33m)\u001b[0m\u001b[1;33m\u001b[0m\u001b[1;33m\u001b[0m\u001b[0m\n\u001b[0m\u001b[0;32m     10\u001b[0m \u001b[1;31m#     path = pathlib.Path(file)\u001b[0m\u001b[1;33m\u001b[0m\u001b[1;33m\u001b[0m\u001b[1;33m\u001b[0m\u001b[0m\n\u001b[0;32m     11\u001b[0m \u001b[1;31m#     path.unlink()\u001b[0m\u001b[1;33m\u001b[0m\u001b[1;33m\u001b[0m\u001b[1;33m\u001b[0m\u001b[0m\n",
            "\u001b[1;31mTypeError\u001b[0m: can only concatenate tuple (not \"str\") to tuple"
          ]
        }
      ]
    },
    {
      "cell_type": "code",
      "metadata": {
        "id": "KTV-zAJFGbqX",
        "outputId": "e0be4354-3614-4496-933c-5c3b2d2be119"
      },
      "source": [
        "!pip install pysftp"
      ],
      "execution_count": null,
      "outputs": [
        {
          "output_type": "stream",
          "text": [
            "Collecting pysftp\n",
            "  Downloading pysftp-0.2.9.tar.gz (25 kB)\n",
            "Requirement already satisfied: paramiko>=1.17 in c:\\users\\sorcim\\anaconda3\\envs\\tensorflow1\\lib\\site-packages (from pysftp) (2.7.2)\n",
            "Requirement already satisfied: bcrypt>=3.1.3 in c:\\users\\sorcim\\anaconda3\\envs\\tensorflow1\\lib\\site-packages (from paramiko>=1.17->pysftp) (3.2.0)\n",
            "Requirement already satisfied: pynacl>=1.0.1 in c:\\users\\sorcim\\anaconda3\\envs\\tensorflow1\\lib\\site-packages (from paramiko>=1.17->pysftp) (1.4.0)\n",
            "Requirement already satisfied: cryptography>=2.5 in c:\\users\\sorcim\\anaconda3\\envs\\tensorflow1\\lib\\site-packages (from paramiko>=1.17->pysftp) (3.3.1)\n",
            "Requirement already satisfied: six>=1.4.1 in c:\\users\\sorcim\\anaconda3\\envs\\tensorflow1\\lib\\site-packages (from bcrypt>=3.1.3->paramiko>=1.17->pysftp) (1.15.0)\n",
            "Requirement already satisfied: cffi>=1.1 in c:\\users\\sorcim\\anaconda3\\envs\\tensorflow1\\lib\\site-packages (from bcrypt>=3.1.3->paramiko>=1.17->pysftp) (1.14.4)\n",
            "Requirement already satisfied: pycparser in c:\\users\\sorcim\\anaconda3\\envs\\tensorflow1\\lib\\site-packages (from cffi>=1.1->bcrypt>=3.1.3->paramiko>=1.17->pysftp) (2.20)\n",
            "Building wheels for collected packages: pysftp\n",
            "  Building wheel for pysftp (setup.py): started\n",
            "  Building wheel for pysftp (setup.py): finished with status 'done'\n",
            "  Created wheel for pysftp: filename=pysftp-0.2.9-py3-none-any.whl size=15481 sha256=bb6e52e9f869ba5d653ef2e9dc3511d74d7e011ae383143c4d1b9aebe8834431\n",
            "  Stored in directory: c:\\users\\sorcim\\appdata\\local\\pip\\cache\\wheels\\02\\ee\\6d\\30c335b17af87fd32d14ff0d0b9dea36f0478da5ece9199597\n",
            "Successfully built pysftp\n",
            "Installing collected packages: pysftp\n",
            "Successfully installed pysftp-0.2.9\n"
          ],
          "name": "stdout"
        }
      ]
    },
    {
      "cell_type": "markdown",
      "metadata": {
        "id": "t_e5jgVOGbqY"
      },
      "source": [
        "### Checking Dimensions"
      ]
    },
    {
      "cell_type": "code",
      "metadata": {
        "id": "JB8nX6nNGbqY",
        "outputId": "12911ad7-c142-45a3-cd7c-e634a24440fb"
      },
      "source": [
        "import pathlib\n",
        "import glob\n",
        "from PIL import Image\n",
        "\n",
        "for file in glob.glob('C:\\\\Users\\\\Sorcim\\\\Documents\\\\dataset\\\\cards\\\\*.jpeg'):\n",
        "#     print(file)\n",
        "#     path = pathlib.Path(file)\n",
        "#     path.unlink()\n",
        "    \n",
        "    im = Image.open(file)\n",
        "    width, height = im.size\n",
        "    print(width, height)"
      ],
      "execution_count": null,
      "outputs": [
        {
          "output_type": "stream",
          "text": [
            "4032 3024\n",
            "4032 3024\n",
            "4032 3024\n",
            "4032 3024\n",
            "4032 3024\n",
            "4032 3024\n",
            "4032 3024\n",
            "4032 3024\n",
            "4032 3024\n",
            "4032 3024\n",
            "4032 3024\n",
            "4032 3024\n",
            "4032 3024\n"
          ],
          "name": "stdout"
        }
      ]
    },
    {
      "cell_type": "markdown",
      "metadata": {
        "id": "2jalbzC0GbqZ"
      },
      "source": [
        "### Changing Dimensions"
      ]
    },
    {
      "cell_type": "code",
      "metadata": {
        "id": "2xWYfvj9GbqZ"
      },
      "source": [
        "from PIL import Image\n",
        "import os, sys\n",
        "import glob\n",
        "\n",
        "path = \"C:\\\\Users\\\\Sorcim\\\\Documents\\\\dataset\\\\cards\\\\\"\n",
        "\n",
        "dirs = os.listdir(path)\n",
        "\n",
        "\n",
        "\n",
        "def resize():\n",
        "    for item in dirs:\n",
        "        if os.path.isfile(path+item):\n",
        "           \n",
        "            im = Image.open(path+item)\n",
        "            if im.mode != 'RGB':\n",
        "                im = im.convert('RGB')\n",
        "            \n",
        "            f, e = os.path.splitext(path+item)\n",
        "         \n",
        "            imResize = im.resize((800,600), Image.ANTIALIAS)\n",
        "           \n",
        "            #imResize.save(f + 'resized.jpg', 'JPEG', quality=90)\n",
        "            imResize.save('C:\\\\Users\\\\Sorcim\\\\Documents\\\\dataset\\\\cards\\\\'+item+'resized.jpg', 'JPEG', quality=90)\n",
        "\n",
        "resize()"
      ],
      "execution_count": null,
      "outputs": []
    },
    {
      "cell_type": "code",
      "metadata": {
        "id": "FRBzxbpNGbqZ"
      },
      "source": [
        ""
      ],
      "execution_count": null,
      "outputs": []
    }
  ]
}